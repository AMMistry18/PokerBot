{
 "cells": [
  {
   "metadata": {
    "ExecuteTime": {
     "end_time": "2024-12-02T15:33:35.288286Z",
     "start_time": "2024-12-02T15:33:31.014254Z"
    }
   },
   "cell_type": "code",
   "source": [
    "%pip install tabulate\n",
    "%pip install matplotlib"
   ],
   "id": "657f41790551c6b8",
   "outputs": [
    {
     "name": "stdout",
     "output_type": "stream",
     "text": [
      "Requirement already satisfied: tabulate in c:\\users\\anshu\\highschool\\pokerbot\\venv\\lib\\site-packages (0.9.0)\n",
      "Note: you may need to restart the kernel to use updated packages.\n"
     ]
    },
    {
     "name": "stderr",
     "output_type": "stream",
     "text": [
      "\n",
      "[notice] A new release of pip is available: 23.2.1 -> 24.3.1\n",
      "[notice] To update, run: python.exe -m pip install --upgrade pip\n"
     ]
    },
    {
     "name": "stdout",
     "output_type": "stream",
     "text": [
      "Requirement already satisfied: matplotlib in c:\\users\\anshu\\highschool\\pokerbot\\venv\\lib\\site-packages (3.9.3)Note: you may need to restart the kernel to use updated packages.\n",
      "\n",
      "Requirement already satisfied: contourpy>=1.0.1 in c:\\users\\anshu\\highschool\\pokerbot\\venv\\lib\\site-packages (from matplotlib) (1.3.1)\n",
      "Requirement already satisfied: cycler>=0.10 in c:\\users\\anshu\\highschool\\pokerbot\\venv\\lib\\site-packages (from matplotlib) (0.12.1)\n",
      "Requirement already satisfied: fonttools>=4.22.0 in c:\\users\\anshu\\highschool\\pokerbot\\venv\\lib\\site-packages (from matplotlib) (4.55.0)\n",
      "Requirement already satisfied: kiwisolver>=1.3.1 in c:\\users\\anshu\\highschool\\pokerbot\\venv\\lib\\site-packages (from matplotlib) (1.4.7)\n",
      "Requirement already satisfied: numpy>=1.23 in c:\\users\\anshu\\highschool\\pokerbot\\venv\\lib\\site-packages (from matplotlib) (2.1.3)\n",
      "Requirement already satisfied: packaging>=20.0 in c:\\users\\anshu\\highschool\\pokerbot\\venv\\lib\\site-packages (from matplotlib) (24.2)\n",
      "Requirement already satisfied: pillow>=8 in c:\\users\\anshu\\highschool\\pokerbot\\venv\\lib\\site-packages (from matplotlib) (11.0.0)\n",
      "Requirement already satisfied: pyparsing>=2.3.1 in c:\\users\\anshu\\highschool\\pokerbot\\venv\\lib\\site-packages (from matplotlib) (3.2.0)\n",
      "Requirement already satisfied: python-dateutil>=2.7 in c:\\users\\anshu\\highschool\\pokerbot\\venv\\lib\\site-packages (from matplotlib) (2.9.0.post0)\n",
      "Requirement already satisfied: six>=1.5 in c:\\users\\anshu\\highschool\\pokerbot\\venv\\lib\\site-packages (from python-dateutil>=2.7->matplotlib) (1.16.0)\n"
     ]
    },
    {
     "name": "stderr",
     "output_type": "stream",
     "text": [
      "\n",
      "[notice] A new release of pip is available: 23.2.1 -> 24.3.1\n",
      "[notice] To update, run: python.exe -m pip install --upgrade pip\n"
     ]
    }
   ],
   "execution_count": 5
  },
  {
   "metadata": {
    "ExecuteTime": {
     "end_time": "2024-12-03T18:09:15.982426Z",
     "start_time": "2024-12-03T18:09:15.181148Z"
    }
   },
   "cell_type": "code",
   "source": [
    "from __future__ import annotations\n",
    "from tabulate import tabulate\n",
    "import matplotlib.pyplot as plt\n",
    "import sys\n"
   ],
   "id": "3644b74e84557fc0",
   "outputs": [],
   "execution_count": 21
  },
  {
   "metadata": {
    "ExecuteTime": {
     "end_time": "2024-12-04T16:52:48.653110Z",
     "start_time": "2024-12-04T16:52:04.947961Z"
    }
   },
   "cell_type": "code",
   "source": [
    "strategy = [[0 for x in range(2)] for y in range(12)]\n",
    "beliefs = [[0 for a in range(2)] for b in range(12)]\n",
    "utilities = [[0 for c in range(2)] for d in range(12)]\n",
    "\n",
    "strategy[0][0] = 2/3\n",
    "strategy[1][0] = 1/2\n",
    "strategy[2][0] = 1/3\n",
    "strategy[3][0] = 1\n",
    "strategy[4][0] = 1\n",
    "strategy[5][0] = 1/2\n",
    "strategy[6][0] = 2/3\n",
    "strategy[7][0] = 0\n",
    "strategy[8][0] = 1/3\n",
    "strategy[9][0] = 1\n",
    "strategy[10][0] = 1/2\n",
    "strategy[11][0] = 0\n",
    "\n",
    "for i in range(12):\n",
    "    strategy[i][1] = 1 - strategy[i][0]\n",
    "    \n",
    "    \n",
    "CARDS = [\"K\", \"Q\", \"J\"]\n",
    "MOVE = [\"\", \"b\", \"p\", \"pb\"]\n",
    "temp = [\"K\", \"Q\", \"J\", \"Kb\", \"Kp\", \"Qb\", \"Qp\", \"Jb\", \"Jp\", \"Kpb\", \"Qpb\", \"Jpb\"]\n",
    "\n",
    "\n",
    "class InfoSet:\n",
    "\n",
    "    def __init__(self, infoSet):\n",
    "        self.infoSet = infoSet\n",
    "        self.bet = strategy[temp.index(infoSet)][0]\n",
    "        self.fold = strategy[temp.index(infoSet)][1]\n",
    "        self.gains = [0, 0]\n",
    "        \n",
    "    def findBelief(self):\n",
    "        cur_card = self.infoSet[0]\n",
    "        cards = [card for card in CARDS if card != cur_card]\n",
    "        belief = {}\n",
    "        if len(self.infoSet)== 1:\n",
    "            belief[0] = 1/2\n",
    "            belief[1] = 1/2\n",
    "            return belief\n",
    "            \n",
    "        action = self.infoSet[1]\n",
    "        if len(self.infoSet)== 3:\n",
    "            a = infoSets.get(cards[0]+action).bet\n",
    "            b = infoSets.get(cards[1]+action).bet\n",
    "        else:\n",
    "            if action == \"b\":\n",
    "                a = infoSets.get(cards[0]).bet\n",
    "                b = infoSets.get(cards[1]).bet\n",
    "            else:\n",
    "                a = infoSets.get(cards[0]).fold\n",
    "                b = infoSets.get(cards[1]).fold\n",
    "                \n",
    "        belief[0] = a/(a+b)\n",
    "        belief[1] = 1 - belief[0]\n",
    "        return belief\n",
    "    \n",
    "    def findUtility(self):\n",
    "        cost = 1\n",
    "        c = cost\n",
    "        if \"b\" in self.infoSet:\n",
    "            c+=1\n",
    "        c2 = c\n",
    "        utility = {}\n",
    "        cur_card = self.infoSet[0]\n",
    "        cards = [card for card in CARDS if card != cur_card]\n",
    "        if  CARDS.index(cur_card) > CARDS.index(cards[0]):\n",
    "            c *= -1\n",
    "        if  CARDS.index(cur_card) > CARDS.index(cards[1]):\n",
    "            c2 *= -1\n",
    "        cost *= -1\n",
    "            \n",
    "        a = beliefs[temp.index(self.infoSet)][0]\n",
    "        b = beliefs[temp.index(self.infoSet)][1]\n",
    "        d = infoSets.get(cards[0] + \"pb\").bet\n",
    "        e = infoSets.get(cards[0] + \"pb\").fold\n",
    "        d2 = infoSets.get(cards[1] + \"pb\").bet\n",
    "        e2 = infoSets.get(cards[1] + \"pb\").fold\n",
    "        \n",
    "        if len(self.infoSet) == 3 or len(self.infoSet) == 2 and self.infoSet[1] == \"b\":\n",
    "            utility[0] = a*c + b*c2\n",
    "            utility[1] = a*cost + b*cost\n",
    "            \n",
    "        elif len(self.infoSet) == 2:\n",
    "            utility[0] = a*(d*c + e*(cost*-1)) + b*(d2*c2 + e2*(cost*-1))\n",
    "            utility[1] = a*cost + b*cost\n",
    "            \n",
    "        else:\n",
    "            utility[0] = a*(d*c + e*(cost*-1)) + b*(d2*c + e2*(cost*-1))\n",
    "            \n",
    "            f = utilities[temp.index(self.infoSet + \"pb\")][0]\n",
    "            h = utilities[temp.index(self.infoSet + \"pb\")][1]\n",
    "            c = f*d + h*e\n",
    "            \n",
    "            utility[1] = a*(d*c + e*(cost*-1)) + b*(d2*c + e2*(cost*-1))  \n",
    "        return utility\n",
    "    \n",
    "    def calculateGains(self):\n",
    "        cur_card = self.infoSet[0]\n",
    "        cards = [card for card in CARDS if card != cur_card]\n",
    "        c = utilities[temp.index(self.infoSet)][0]*strategy[temp.index(self.infoSet)][0] + utilities[temp.index(self.infoSet)][1]*strategy[temp.index(self.infoSet)][1]\n",
    "        if len(self.infoSet) == 1:\n",
    "            self.gains[0] = max(1/3*(c-utilities[temp.index(self.infoSet)][0]), 0)\n",
    "            self.gains[1] = max(1/3*(c-utilities[temp.index(self.infoSet)][1]), 0)\n",
    "        else:\n",
    "            if self.infoSet[len(self.infoSet)-1] == \"b\":\n",
    "                self.gains[0] = max(1/6*(strategy[temp.index(cards[0])][0]+strategy[temp.index(cards[1])][0])*(c-utilities[temp.index(self.infoSet)][0]), 0)\n",
    "                self.gains[1] = max(1/6*(strategy[temp.index(cards[0])][0]+strategy[temp.index(cards[1])][0])*(c-utilities[temp.index(self.infoSet)][1]), 0)\n",
    "            else:\n",
    "                self.gains[0] = max(1/6*(strategy[temp.index(cards[0])][1]+strategy[temp.index(cards[1])][1])*(c-utilities[temp.index(self.infoSet)][0]), 0)\n",
    "                self.gains[1] = max(1/6*(strategy[temp.index(cards[0])][1]+strategy[temp.index(cards[1])][1])*(c-utilities[temp.index(self.infoSet)][1]), 0)\n",
    "        \n",
    "        if self.gains[0] != 0:\n",
    "            self.gains[0] = self.gains[0]/(self.gains[0] + self.gains[1])\n",
    "        if self.gains[1] != 0:   \n",
    "            self.gains[1] = self.gains[1]/(self.gains[0] + self.gains[1])\n",
    "\n",
    "infoSets: dict[str, InfoSet] = {}\n",
    "\n",
    "\n",
    "\n",
    "for i in range(3):\n",
    "    for j in range(4):\n",
    "        infoSets[CARDS[i] + MOVE[j]] = InfoSet(CARDS[i] + MOVE[j])\n",
    "\n",
    "num_iterations = 1\n",
    "g = []\n",
    "for iteration in range(1, num_iterations + 1):\n",
    "    for i in range(12):\n",
    "        beliefs[i] = infoSets[temp[i]].findBelief()\n",
    "\n",
    "    for i in range(12):\n",
    "        utilities[11-i] = infoSets[temp[11-i]].findUtility()\n",
    "\n",
    "    for i in range(12):\n",
    "        infoSets[temp[i]].calculateGains()\n",
    "\n",
    "if iteration % 1  == 0:\n",
    "    totalgains = 0\n",
    "    for i in range(12):\n",
    "        totalgains += infoSets[temp[i]].gains[0] + infoSets[temp[i]].gains[1]\n",
    "        g.append(totalgains)\n",
    "        strategy[i] = infoSets[temp[i]].gains\n",
    "\n",
    "    print(totalgains)"
   ],
   "id": "c9620aeba88f5713",
   "outputs": [
    {
     "name": "stdout",
     "output_type": "stream",
     "text": [
      "10.0\n"
     ]
    }
   ],
   "execution_count": 2
  },
  {
   "metadata": {
    "ExecuteTime": {
     "end_time": "2024-12-04T15:26:36.357420Z",
     "start_time": "2024-12-04T15:26:36.335437Z"
    }
   },
   "cell_type": "code",
   "source": [
    "\n",
    "\n",
    "\n",
    "'''plt.figure(figsize=(12, 8))\n",
    "\n",
    "for gs in g:\n",
    "    plt.plot(range(1, num_iterations + 1), gs)\n",
    "\n",
    "plt.xlabel(\"Iterations\")\n",
    "plt.ylabel(\"Probability of Betting\")\n",
    "plt.title(\"Strategy Convergence Over Iterations\")\n",
    "plt.legend(loc=\"best\", bbox_to_anchor=(1.05, 1))\n",
    "plt.grid()\n",
    "plt.tight_layout()\n",
    "plt.show()'''\n"
   ],
   "id": "b2a1be802ac54f41",
   "outputs": [
    {
     "name": "stdout",
     "output_type": "stream",
     "text": [
      "0.4285714285714286\n"
     ]
    },
    {
     "data": {
      "text/plain": [
       "'plt.figure(figsize=(12, 8))\\n\\nfor gs in g:\\n    plt.plot(range(1, num_iterations + 1), gs)\\n\\nplt.xlabel(\"Iterations\")\\nplt.ylabel(\"Probability of Betting\")\\nplt.title(\"Strategy Convergence Over Iterations\")\\nplt.legend(loc=\"best\", bbox_to_anchor=(1.05, 1))\\nplt.grid()\\nplt.tight_layout()\\nplt.show()'"
      ]
     },
     "execution_count": 1,
     "metadata": {},
     "output_type": "execute_result"
    }
   ],
   "execution_count": 1
  }
 ],
 "metadata": {
  "kernelspec": {
   "display_name": "Python 3",
   "language": "python",
   "name": "python3"
  },
  "language_info": {
   "codemirror_mode": {
    "name": "ipython",
    "version": 2
   },
   "file_extension": ".py",
   "mimetype": "text/x-python",
   "name": "python",
   "nbconvert_exporter": "python",
   "pygments_lexer": "ipython2",
   "version": "2.7.6"
  }
 },
 "nbformat": 4,
 "nbformat_minor": 5
}
